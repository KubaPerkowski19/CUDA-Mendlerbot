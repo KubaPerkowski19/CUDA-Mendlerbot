{
  "cells": [
    {
      "cell_type": "markdown",
      "metadata": {
        "id": "view-in-github"
      },
      "source": [
        "<a href=\"https://colab.research.google.com/github/Fambly/PRiR_lab_8/blob/main/Untitled3.ipynb\" target=\"_parent\"><img src=\"https://colab.research.google.com/assets/colab-badge.svg\" alt=\"Open In Colab\"/></a>"
      ]
    },
    {
      "cell_type": "code",
      "execution_count": 3,
      "metadata": {
        "colab": {
          "base_uri": "https://localhost:8080/"
        },
        "id": "kICHdBBmNWJU",
        "outputId": "5771d7ee-6352-484b-d601-c542919efaa6"
      },
      "outputs": [
        {
          "output_type": "stream",
          "name": "stdout",
          "text": [
            "nvcc: NVIDIA (R) Cuda compiler driver\n",
            "Copyright (c) 2005-2021 NVIDIA Corporation\n",
            "Built on Sun_Feb_14_21:12:58_PST_2021\n",
            "Cuda compilation tools, release 11.2, V11.2.152\n",
            "Build cuda_11.2.r11.2/compiler.29618528_0\n"
          ]
        }
      ],
      "source": [
        "!nvcc --version"
      ]
    },
    {
      "cell_type": "code",
      "execution_count": 4,
      "metadata": {
        "colab": {
          "base_uri": "https://localhost:8080/"
        },
        "id": "UUCNisVrNeeM",
        "outputId": "2c37b30d-9cee-472b-a0ca-801c4f1efe6d"
      },
      "outputs": [
        {
          "output_type": "stream",
          "name": "stdout",
          "text": [
            "Looking in indexes: https://pypi.org/simple, https://us-python.pkg.dev/colab-wheels/public/simple/\n",
            "Collecting git+https://github.com/andreinechaev/nvcc4jupyter.git\n",
            "  Cloning https://github.com/andreinechaev/nvcc4jupyter.git to /tmp/pip-req-build-4_l_f1ra\n",
            "  Running command git clone -q https://github.com/andreinechaev/nvcc4jupyter.git /tmp/pip-req-build-4_l_f1ra\n",
            "Building wheels for collected packages: NVCCPlugin\n",
            "  Building wheel for NVCCPlugin (setup.py) ... \u001b[?25l\u001b[?25hdone\n",
            "  Created wheel for NVCCPlugin: filename=NVCCPlugin-0.0.2-py3-none-any.whl size=4304 sha256=8b785deb93d13b231d839bd2f3dda3403c28323664da6cb82835a74e9ebad9c9\n",
            "  Stored in directory: /tmp/pip-ephem-wheel-cache-18sjvg4a/wheels/f3/08/cc/e2b5b0e1c92df07dbb50a6f024a68ce090f5e7b2316b41756d\n",
            "Successfully built NVCCPlugin\n",
            "Installing collected packages: NVCCPlugin\n",
            "Successfully installed NVCCPlugin-0.0.2\n"
          ]
        }
      ],
      "source": [
        "!pip install git+https://github.com/andreinechaev/nvcc4jupyter.git"
      ]
    },
    {
      "cell_type": "code",
      "execution_count": 5,
      "metadata": {
        "colab": {
          "base_uri": "https://localhost:8080/"
        },
        "id": "HUye_ckaNhOe",
        "outputId": "84a45a43-dc29-43d1-ea80-fc898e8e7863"
      },
      "outputs": [
        {
          "output_type": "stream",
          "name": "stdout",
          "text": [
            "created output directory at /content/src\n",
            "Out bin /content/result.out\n"
          ]
        }
      ],
      "source": [
        "%load_ext nvcc_plugin"
      ]
    },
    {
      "cell_type": "markdown",
      "source": [
        "Aby była możliwość skompilowania programów poniżej należy w oknie Google Colab w zakładce \"Środowisko wykonawcze\" zamienić \"none\" na \"GPU\" a następnie wykonać \n",
        "powyższe 3 linijki kodu by zainstalować środowisko"
      ],
      "metadata": {
        "id": "XGlqgmkKnh-F"
      }
    },
    {
      "cell_type": "markdown",
      "metadata": {
        "id": "HAQxGSyc-_hL"
      },
      "source": [
        "***CPU***:"
      ]
    },
    {
      "cell_type": "code",
      "execution_count": 19,
      "metadata": {
        "colab": {
          "base_uri": "https://localhost:8080/"
        },
        "id": "hYa1p61A_Nhl",
        "outputId": "4a3400a0-f821-4b7a-b937-faaed8668b0b"
      },
      "outputs": [
        {
          "output_type": "stream",
          "name": "stdout",
          "text": [
            "Time the code took to end: 1.604463 seconds\n"
          ]
        }
      ],
      "source": [
        "%%cu \n",
        "#include<stdio.h>\n",
        "\n",
        "#define DIAMETER 1000\n",
        "\n",
        "struct cuComplex\n",
        "{\n",
        "  float r,i;\n",
        "  float magnitude(void)\n",
        "  {\n",
        "      return r*r+i*i;\n",
        "  }\n",
        " \n",
        "  cuComplex(float a, float b): r(a), i(b){}\n",
        "  cuComplex operator*(const cuComplex &a)\n",
        "  {\n",
        "       return cuComplex(r*a.r-i*a.i,i*a.r+r*a.i);\n",
        "  }\n",
        "  cuComplex operator+(const cuComplex &a)\n",
        "  {\n",
        "       return cuComplex(r+a.r,i+a.i); \n",
        "  }\n",
        "};\n",
        "\n",
        "\n",
        "int fraktal(int x, int y)\n",
        "{\n",
        "  float Half_ofDiameter = DIAMETER/2;\n",
        "  const float scale=1.5;\n",
        "  float jx = scale * (float)(Half_ofDiameter-x) / Half_ofDiameter;\n",
        "  float jy = scale * (float)(Half_ofDiameter-y) / Half_ofDiameter;\n",
        "  cuComplex c(jx, jy);\n",
        "  cuComplex a(0, 0);\n",
        "  for(int i = 0; i < 200; i++)\n",
        "  {\n",
        "    a = a * a + c;\n",
        "    if(a.magnitude() > 1000) return 0;\n",
        "  }\n",
        "  return 1;\n",
        "}\n",
        "\n",
        "\n",
        "void kernel(unsigned char *data)\n",
        "{\n",
        "  for(int y = 0; y < DIAMETER; y++)\n",
        "  {\n",
        "    for(int x = 0; x < DIAMETER; x++)\n",
        "    {\n",
        "      int val_of_0 = (x+y*DIAMETER)*4+0;\n",
        "      int val_of_1 = val_of_0 + 1;\n",
        "      int val_of_2 = val_of_0 + 2;\n",
        "      int val_of_3 = val_of_0 + 3;\n",
        "      int Value = fraktal(x,y);\n",
        "      data[val_of_0] = 255 * Value;\n",
        "      data[val_of_1] = 0;\n",
        "      data[val_of_2] = 0;\n",
        "      data[val_of_3] = 255;\n",
        "    }\n",
        "  }\n",
        "}                                                                                                                                                                                                    \n",
        "\n",
        "struct DataBlock\n",
        "{\n",
        "  unsigned char *dev_bitmap;\n",
        "};\n",
        "\n",
        "void output(unsigned char *data)\n",
        "{\n",
        "  FILE *fp = fopen(\"CPU.ppm\",\"w\");\n",
        "  fprintf(fp, \"P3\\n%d %d\\n255\\n\", DIAMETER, DIAMETER);\n",
        "  for(int y = 0; y < DIAMETER; y++)\n",
        "  {\n",
        "    for(int x = 0;x < DIAMETER; x++)\n",
        "    {\n",
        "      int val_of_0 = (x + y * DIAMETER) * 4 + 0;\n",
        "      int val_of_1 = val_of_0 + 1;\n",
        "      int val_of_2 = val_of_0 + 2;\n",
        "      fprintf(fp,\"\\n%d %d %d\", data[val_of_1], data[val_of_0], data[val_of_2]);\n",
        "    }\n",
        "  }\n",
        "  fclose(fp);\n",
        "}\n",
        "\n",
        "\n",
        "int main(void)\n",
        "{\n",
        "    \n",
        "  clock_t start = clock();\n",
        "  clock_t end;\n",
        "  double time_taken;\n",
        "\n",
        "  DataBlock data;\n",
        "  unsigned char *bitmap = (unsigned char*)malloc(DIAMETER*DIAMETER*4*sizeof(unsigned char));\n",
        "  kernel(bitmap);\n",
        "  output(bitmap);\n",
        "  \n",
        "  end = clock();\n",
        "  time_taken = ((double)(end - start))/CLOCKS_PER_SEC;\n",
        "  printf(\"Time the code took to end: %f seconds\", time_taken);\n",
        "}"
      ]
    },
    {
      "cell_type": "markdown",
      "source": [
        "Aby wyświetlić efekt programu należy po lewej stronie okna google colab kliknąć na ikonę foldera następnie na pliku \"CPU.ppm\" w menu pod trzema kropkami kliknąć \"Pobierz\".\n",
        "Pobrany plik w formacie .ppm można przekonwertować w format .jpg / .png itp za pomocą dostępnych converterów Online by zobaczyć obraz \n",
        "Drugim sposobem jest otworzenie pliku za pomocą programu o nazwie IrfanVieww\n"
      ],
      "metadata": {
        "id": "rz-v7_TvR34x"
      }
    },
    {
      "cell_type": "markdown",
      "metadata": {
        "id": "2g5a9VopB8Xc"
      },
      "source": [
        "***GPU***:"
      ]
    },
    {
      "cell_type": "code",
      "execution_count": 21,
      "metadata": {
        "colab": {
          "base_uri": "https://localhost:8080/"
        },
        "id": "kNxlOodnB2sL",
        "outputId": "4954348c-f098-4f7c-bd5a-ba4df24670d6"
      },
      "outputs": [
        {
          "output_type": "stream",
          "name": "stdout",
          "text": [
            "Time the code took to end: 0.875244 seconds\n"
          ]
        }
      ],
      "source": [
        "%%cu\n",
        "#include<stdio.h>\n",
        "\n",
        "#define DIAMETER 1000\n",
        "\n",
        "\n",
        "struct cuComplex\n",
        "{\n",
        "  float r,i;\n",
        "  __device__ cuComplex(float a, float b): r(a), i(b){}\n",
        "  __device__ float magnitude2(void)\n",
        "  { \n",
        "      return r * r + i * i;\n",
        "  }\n",
        "  __device__ cuComplex operator*(const cuComplex &a)\n",
        "  {\n",
        "       return cuComplex(r*a.r-i*a.i,i*a.r+r*a.i);\n",
        "  }\n",
        "  __device__ cuComplex operator+(const cuComplex &a)\n",
        "  {\n",
        "       return cuComplex( r + a.r, i + a.i);\n",
        "  }\n",
        "};\n",
        "\n",
        "__device__  int mandelbrot(int x, int y)\n",
        "{\n",
        "  float Half_ofDiameter = DIAMETER / 2;\n",
        "  const float scale=1.5;\n",
        "  float jx = scale*(float)(Half_ofDiameter-x) / Half_ofDiameter;\n",
        "  float jy = scale*(float)(Half_ofDiameter-y) / Half_ofDiameter;\n",
        "  cuComplex c(jx, jy);\n",
        "  cuComplex a(0, 0);\n",
        "  for(int i = 0; i < 200; i++)\n",
        "  {\n",
        "    a= a * a + c;\n",
        "    if(a.magnitude2() > 1000)\n",
        "    {\n",
        "        return 0;\n",
        "    }  \n",
        "  }\n",
        "  return 1;\n",
        "}\n",
        "\n",
        "__global__ void kernel(unsigned char *data)\n",
        "{\n",
        "  int x = blockIdx.x;\n",
        "  int y = blockIdx.y;\n",
        "  int val_of_0 = (x+y*gridDim.x)*4+0;\n",
        "  int val_of_1 = val_of_0 + 1;\n",
        "  int val_of_2 = val_of_0 + 2;\n",
        "  int val_of_3 = val_of_0 + 3;\n",
        "  int Value=mandelbrot(x,y);\n",
        "  data[val_of_0]=255*Value;\n",
        "  data[val_of_1]=0;\n",
        "  data[val_of_2]=0;\n",
        "  data[val_of_3]=255;\n",
        "}\n",
        "\n",
        "struct DataBlock{\n",
        "  unsigned char *bitmap_Data;\n",
        "};\n",
        "\n",
        "void output(unsigned char *data){\n",
        "  FILE *fp = fopen(\"GPU.ppm\",\"w\");\n",
        "  fprintf(fp, \"P3\\n%d %d\\n255\\n\", DIAMETER, DIAMETER);\n",
        "  for(int y = 0; y < DIAMETER; y++)\n",
        "  {\n",
        "    for(int x = 0; x < DIAMETER; x++)\n",
        "    {\n",
        "      int val_of_0 = (x + y * DIAMETER) * 4 + 0;\n",
        "      int val_of_1 = val_of_0 + 1;\n",
        "      int val_of_2 = val_of_0 + 2;\n",
        "      fprintf(fp,\"\\n%d %d %d\", data[val_of_1], data[val_of_0],data[val_of_2]);\n",
        "    }\n",
        "  }\n",
        "  fclose(fp);\n",
        "}                                                                                                                                                                                                              \n",
        "\n",
        "int main(void)\n",
        "{\n",
        "  clock_t start = clock();\n",
        "  clock_t end;\n",
        "  double time_taken;\n",
        "\n",
        "  DataBlock data;\n",
        "  unsigned char *bitmap = (unsigned char*)malloc(DIAMETER*DIAMETER*4*sizeof(unsigned char));\n",
        "  int size = DIAMETER*DIAMETER*4;\n",
        "  unsigned char *bitmap_Data;\n",
        "  cudaMalloc((void**)&bitmap_Data, size);\n",
        "  data.bitmap_Data = bitmap_Data;\n",
        "  dim3 grid(DIAMETER, DIAMETER);\n",
        "  kernel<<<grid,1>>>(bitmap_Data);\n",
        "  cudaMemcpy(bitmap, bitmap_Data, size, cudaMemcpyDeviceToHost);\n",
        "  cudaFree(bitmap_Data);\n",
        "  output(bitmap);\n",
        "\n",
        "  end = clock();\n",
        "  time_taken = ((double)(end - start))/CLOCKS_PER_SEC;\n",
        "  printf(\"Time the code took to end: %f seconds\", time_taken);\n",
        "}"
      ]
    },
    {
      "cell_type": "markdown",
      "source": [
        "Aby wyświetlić efekt programu należy po lewej stronie okna google colab kliknąć na ikonę foldera następnie na pliku \"GPU.ppm\" w menu pod trzema kropkami kliknąć \"Pobierz\".\n",
        "Pobrany plik w formacie .ppm można przekonwertować w format .jpg / .png itp za pomocą dostępnych converterów Online by zobaczyć obraz \n",
        "Drugim sposobem jest otworzenie pliku za pomocą programu o nazwie IrfanVieww"
      ],
      "metadata": {
        "id": "2CtKJTCLmQ-D"
      }
    },
    {
      "cell_type": "markdown",
      "source": [
        "Średni zysk w czasie obliczeń między CPU a GPU wynosi 50% na danym komputerze\n",
        "(1.6s => 0.8s)"
      ],
      "metadata": {
        "id": "e3w1trnKpfIL"
      }
    }
  ],
  "metadata": {
    "accelerator": "GPU",
    "colab": {
      "provenance": []
    },
    "gpuClass": "standard",
    "kernelspec": {
      "display_name": "Python 3",
      "name": "python3"
    },
    "language_info": {
      "name": "python"
    }
  },
  "nbformat": 4,
  "nbformat_minor": 0
}